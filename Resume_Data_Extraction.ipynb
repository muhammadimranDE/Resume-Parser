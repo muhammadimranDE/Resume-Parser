{
  "nbformat": 4,
  "nbformat_minor": 0,
  "metadata": {
    "colab": {
      "provenance": []
    },
    "kernelspec": {
      "name": "python3",
      "display_name": "Python 3"
    },
    "language_info": {
      "name": "python"
    }
  },
  "cells": [
    {
      "cell_type": "code",
      "source": [
        "pip install pymupdf\n"
      ],
      "metadata": {
        "colab": {
          "base_uri": "https://localhost:8080/"
        },
        "id": "-xbdDvHnUzHR",
        "outputId": "e8f680b7-5073-47c8-9e9e-05b2427de534"
      },
      "execution_count": 2,
      "outputs": [
        {
          "output_type": "stream",
          "name": "stdout",
          "text": [
            "Collecting pymupdf\n",
            "  Downloading pymupdf-1.26.0-cp39-abi3-manylinux2014_x86_64.manylinux_2_17_x86_64.whl.metadata (3.4 kB)\n",
            "Downloading pymupdf-1.26.0-cp39-abi3-manylinux2014_x86_64.manylinux_2_17_x86_64.whl (24.1 MB)\n",
            "\u001b[2K   \u001b[90m━━━━━━━━━━━━━━━━━━━━━━━━━━━━━━━━━━━━━━━━\u001b[0m \u001b[32m24.1/24.1 MB\u001b[0m \u001b[31m58.7 MB/s\u001b[0m eta \u001b[36m0:00:00\u001b[0m\n",
            "\u001b[?25hInstalling collected packages: pymupdf\n",
            "Successfully installed pymupdf-1.26.0\n"
          ]
        }
      ]
    },
    {
      "cell_type": "code",
      "execution_count": 5,
      "metadata": {
        "colab": {
          "base_uri": "https://localhost:8080/"
        },
        "id": "UtvKOG6rUcbb",
        "outputId": "2b56ef8b-4cac-4525-8b48-d9ffe87ab3e4"
      },
      "outputs": [
        {
          "output_type": "stream",
          "name": "stdout",
          "text": [
            "Processing Resume6.pdf...\n",
            "Processing Resume1.pdf...\n",
            "Processing Resume4.pdf...\n",
            "Processing Resume2.pdf...\n",
            "Processing Resume3.pdf...\n",
            "Processing Resume5.pdf...\n",
            "Processing Resume7.pdf...\n",
            "Results saved to data/output/resume_data.csv\n"
          ]
        }
      ],
      "source": [
        "import fitz  # PyMuPDF\n",
        "import re\n",
        "import os\n",
        "import pandas as pd\n",
        "\n",
        "# Step 1: Extract raw text from PDF\n",
        "def extract_text_from_pdf(pdf_path):\n",
        "    try:\n",
        "        doc = fitz.open(pdf_path)\n",
        "        text = \"\"\n",
        "        for page in doc:\n",
        "            text += page.get_text()\n",
        "        doc.close()\n",
        "        return text\n",
        "    except Exception as e:\n",
        "        print(f\"Error reading {pdf_path}: {e}\")\n",
        "        return \"\"\n",
        "\n",
        "# Step 2: Normalize extracted text\n",
        "def normalize_text(text):\n",
        "    text = re.sub(r'\\s+', ' ', text).strip()\n",
        "    text = re.sub(r' +', ' ', text)\n",
        "    text = re.sub(r'\\n+', '\\n', text)\n",
        "    return text\n",
        "\n",
        "# Step 3: Extract fields using regex and keyword rules\n",
        "def extract_fields(text):\n",
        "    fields = {\n",
        "        \"Name\": \"\",\n",
        "        \"Email\": \"\",\n",
        "        \"Education\": [],\n",
        "        \"Skills\": []\n",
        "    }\n",
        "\n",
        "    lines = text.split('\\n')\n",
        "    if lines:\n",
        "        fields[\"Name\"] = lines[0].strip()\n",
        "\n",
        "    email_pattern = r'[a-zA-Z0-9._%+-]+@[a-zA-Z0-9.-]+\\.[a-zA-Z]{2,}'\n",
        "    email_match = re.search(email_pattern, text)\n",
        "    if email_match:\n",
        "        fields[\"Email\"] = email_match.group()\n",
        "\n",
        "    education_keywords = ['Education', 'Academic', 'Degree', 'University', 'College']\n",
        "    education_lines = []\n",
        "    for line in lines:\n",
        "        if any(keyword in line for keyword in education_keywords):\n",
        "            education_lines.append(line.strip())\n",
        "        elif education_lines and re.match(r'^\\d{4}\\s*-?\\s*\\d{4}?$', line):\n",
        "            education_lines[-1] += f\" ({line.strip()})\"\n",
        "    fields[\"Education\"] = education_lines if education_lines else [\"Not found\"]\n",
        "\n",
        "    skills_keywords = ['Skills', 'Technical Skills', 'Proficiencies']\n",
        "    skills_lines = []\n",
        "    capture_skills = False\n",
        "    for line in lines:\n",
        "        if any(keyword in line for keyword in skills_keywords):\n",
        "            capture_skills = True\n",
        "            continue\n",
        "        if capture_skills:\n",
        "            if any(keyword in line for keyword in ['Experience', 'Work', 'Education']):\n",
        "                break\n",
        "            skills = [skill.strip() for skill in line.split(',') if skill.strip()]\n",
        "            skills_lines.extend(skills)\n",
        "    fields[\"Skills\"] = skills_lines if skills_lines else [\"Not found\"]\n",
        "\n",
        "    return fields\n",
        "\n",
        "# Step 4: Structure output as dictionary\n",
        "def structure_output(fields):\n",
        "    return {\n",
        "        \"Name\": fields[\"Name\"],\n",
        "        \"Email\": fields[\"Email\"],\n",
        "        \"Education\": fields[\"Education\"],\n",
        "        \"Skills\": fields[\"Skills\"]\n",
        "    }\n",
        "\n",
        "# Step 5: Process multiple resumes and save to CSV\n",
        "def process_resumes(pdf_folder, output_csv):\n",
        "    os.makedirs(os.path.dirname(output_csv), exist_ok=True)\n",
        "    results = []\n",
        "    for pdf_file in os.listdir(pdf_folder):\n",
        "        if pdf_file.endswith('.pdf'):\n",
        "            pdf_path = os.path.join(pdf_folder, pdf_file)\n",
        "            print(f\"Processing {pdf_file}...\")\n",
        "\n",
        "            raw_text = extract_text_from_pdf(pdf_path)\n",
        "            normalized_text = normalize_text(raw_text)\n",
        "\n",
        "            fields = extract_fields(normalized_text)\n",
        "            structured_data = structure_output(fields)\n",
        "\n",
        "            structured_data[\"File\"] = pdf_file\n",
        "            results.append(structured_data)\n",
        "\n",
        "    df = pd.DataFrame(results)\n",
        "    df['Education'] = df['Education'].apply(lambda x: '; '.join(x) if isinstance(x, list) else x)\n",
        "    df['Skills'] = df['Skills'].apply(lambda x: '; '.join(x) if isinstance(x, list) else x)\n",
        "    df.to_csv(output_csv, index=False)\n",
        "    print(f\"Results saved to {output_csv}\")\n",
        "\n",
        "# Run the parser\n",
        "pdf_folder = \"data/input\"\n",
        "output_csv = \"data/output/resume_data.csv\"\n",
        "process_resumes(pdf_folder, output_csv)"
      ]
    }
  ]
}